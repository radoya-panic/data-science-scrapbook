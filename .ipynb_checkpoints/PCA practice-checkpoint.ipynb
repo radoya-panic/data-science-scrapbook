{
 "cells": [
  {
   "cell_type": "markdown",
   "id": "17a4cbb6",
   "metadata": {},
   "source": [
    "# PCA practice"
   ]
  },
  {
   "cell_type": "code",
   "execution_count": 1,
   "id": "21f563af",
   "metadata": {},
   "outputs": [],
   "source": [
    "import numpy as np\n",
    "import matplotlib.pyplot as plt"
   ]
  },
  {
   "cell_type": "markdown",
   "id": "f2b932ba",
   "metadata": {},
   "source": [
    "First, generate a sample dataset which has some correlation but zero mean. "
   ]
  },
  {
   "cell_type": "code",
   "execution_count": 8,
   "id": "f4601f39",
   "metadata": {},
   "outputs": [
    {
     "name": "stdout",
     "output_type": "stream",
     "text": [
      "(100, 2)\n"
     ]
    },
    {
     "data": {
      "image/png": "[encoded data removed]",
      "text/plain": [
       "<Figure size 432x288 with 1 Axes>"
      ]
     },
     "metadata": {
      "needs_background": "light"
     },
     "output_type": "display_data"
    }
   ],
   "source": [
    "n_samples = int(100)\n",
    "axes = [-20,20]\n",
    "sig = [10, 1.2]\n",
    "\n",
    "X_1 = np.random.normal(0,1,(n_samples,1))\n",
    "X_2 = np.random.normal(0,1,(n_samples,1)) \n",
    "X = np.concatenate((sig[0]*X_1,sig[1]*X_2),axis=1) # dilate datta\n",
    "print(X.shape)\n",
    "X = (np.array([[np.cos(np.pi/3),-np.sin(np.pi/3)],[np.sin(np.pi/3),np.cos(np.pi/3)]]) @ X.T).T  # rotate data\n",
    "plt.plot(X[:,0].reshape(-1),X[:,1].reshape(-1),'*')\n",
    "plt.xlabel('X_1')\n",
    "plt.ylabel('X_2')\n",
    "plt.xlim(axes)\n",
    "plt.ylim(axes)\n",
    "plt.title('Data dilated and rotated')\n",
    "\n",
    "\n",
    "\n",
    "\n",
    "plt.tight_layout() # space the plots neatly"
   ]
  },
  {
   "cell_type": "markdown",
   "id": "3c661926",
   "metadata": {},
   "source": [
    "Next, apply PCA to find the principle components of the data and visualise them."
   ]
  },
  {
   "cell_type": "code",
   "execution_count": 18,
   "id": "c7356c1c",
   "metadata": {},
   "outputs": [
    {
     "name": "stdout",
     "output_type": "stream",
     "text": [
      "(2, 2)\n",
      "[[ 0.50148539 -0.86516611]\n",
      " [ 0.86516611  0.50148539]]\n"
     ]
    }
   ],
   "source": [
    "u, s, vh = np.linalg.svd(X,full_matrices=False)\n",
    "print(vh.shape)\n",
    "print(vh.T)"
   ]
  },
  {
   "cell_type": "code",
   "execution_count": 19,
   "id": "7e9d05fa",
   "metadata": {},
   "outputs": [
    {
     "data": {
      "image/png": "[encoded data removed]",
      "text/plain": [
       "<Figure size 432x288 with 1 Axes>"
      ]
     },
     "metadata": {
      "needs_background": "light"
     },
     "output_type": "display_data"
    }
   ],
   "source": [
    "plt.plot(X[:,0].reshape(-1),X[:,1].reshape(-1),'*')\n",
    "plt.xlabel('X_1')\n",
    "plt.ylabel('X_2')\n",
    "plt.xlim(axes)\n",
    "plt.ylim(axes)\n",
    "plt.title('Dataset with principle components')\n",
    "\n",
    "plt.plot([0,5*vh.T[0,0]],[0,5*vh.T[1,0]],'r-')\n",
    "plt.plot([0,2.5*vh.T[0,1]],[0,2.5*vh.T[1,1]],'r-')\n",
    "plt.gca().set_aspect('equal', adjustable='box')"
   ]
  },
  {
   "cell_type": "markdown",
   "id": "8190ca95",
   "metadata": {},
   "source": [
    "In the above figure we can see the principles axes of the dataset overlayed on the raw data. The longer red line represents the principle axis that captures the most variance of the data. "
   ]
  },
  {
   "cell_type": "code",
   "execution_count": 20,
   "id": "d7a9569a",
   "metadata": {},
   "outputs": [
    {
     "name": "stdout",
     "output_type": "stream",
     "text": [
      "[95.2225178  12.85940552]\n",
      "0.9820892642466232\n"
     ]
    }
   ],
   "source": [
    "print(s)\n",
    "print(s[0]**2/(s[0]**2 + s[1]**2))"
   ]
  },
  {
   "cell_type": "markdown",
   "id": "a37f0ccb",
   "metadata": {},
   "source": [
    "Therefore, the first principle component captures 98.8% of the variance. Below is the data illustrated using a single dimension by projecting it onto the first principle axis. "
   ]
  },
  {
   "cell_type": "code",
   "execution_count": 21,
   "id": "adb18a7c",
   "metadata": {
    "scrolled": true
   },
   "outputs": [
    {
     "name": "stdout",
     "output_type": "stream",
     "text": [
      "(100, 2)\n",
      "[[9.06732790e+03 1.34115062e-13]\n",
      " [1.34115062e-13 1.65364310e+02]]\n"
     ]
    },
    {
     "data": {
      "text/plain": [
       "[<matplotlib.lines.Line2D at 0x7fa88b07c8d0>]"
      ]
     },
     "execution_count": 21,
     "metadata": {},
     "output_type": "execute_result"
    },
    {
     "data": {
      "image/png": "[encoded data removed]",
      "text/plain": [
       "<Figure size 432x288 with 1 Axes>"
      ]
     },
     "metadata": {
      "needs_background": "light"
     },
     "output_type": "display_data"
    }
   ],
   "source": [
    "Z = X @ vh.T # transformed data\n",
    "print(Z.shape)\n",
    "print(Z.T@Z) # illustrates data along principle components are not correlated\n",
    "plt.plot(Z[:,0],np.zeros(Z.shape[0]),'o')"
   ]
  },
  {
   "cell_type": "markdown",
   "id": "20c518c8",
   "metadata": {},
   "source": [
    "The above calculation can be equivalently done by: $Z = X V = U \\Sigma$. We can see below that they are equal up to a small numerical tolerance. "
   ]
  },
  {
   "cell_type": "code",
   "execution_count": 23,
   "id": "a980e2b3",
   "metadata": {},
   "outputs": [
    {
     "name": "stdout",
     "output_type": "stream",
     "text": [
      "[[-5.32907052e-15 -7.28583860e-15]\n",
      " [-1.33226763e-15  0.00000000e+00]\n",
      " [ 0.00000000e+00 -1.11022302e-15]\n",
      " [ 0.00000000e+00  2.91433544e-16]\n",
      " [-1.77635684e-15 -4.44089210e-16]\n",
      " [ 0.00000000e+00 -1.11022302e-16]\n",
      " [-4.44089210e-16  0.00000000e+00]\n",
      " [ 2.77555756e-17  2.77555756e-17]\n",
      " [ 0.00000000e+00  4.44089210e-16]\n",
      " [ 0.00000000e+00  6.66133815e-16]\n",
      " [-8.88178420e-16  2.77555756e-16]\n",
      " [ 0.00000000e+00 -1.16573418e-15]\n",
      " [ 0.00000000e+00  1.11022302e-15]\n",
      " [-8.88178420e-16  8.88178420e-16]\n",
      " [ 0.00000000e+00  4.44089210e-16]\n",
      " [-2.22044605e-16 -2.77555756e-17]\n",
      " [-8.88178420e-16 -1.66533454e-16]\n",
      " [-8.88178420e-16  1.11022302e-15]\n",
      " [ 0.00000000e+00  0.00000000e+00]\n",
      " [ 0.00000000e+00  8.88178420e-16]\n",
      " [-4.44089210e-16 -6.66133815e-16]\n",
      " [ 0.00000000e+00 -3.05311332e-16]\n",
      " [ 1.77635684e-15 -6.66133815e-16]\n",
      " [ 0.00000000e+00 -1.33226763e-15]\n",
      " [-1.77635684e-15 -6.66133815e-16]\n",
      " [ 2.22044605e-16  4.44089210e-16]\n",
      " [ 3.55271368e-15 -1.49880108e-15]\n",
      " [ 2.22044605e-16 -6.59194921e-17]\n",
      " [ 2.22044605e-16 -5.55111512e-17]\n",
      " [-8.88178420e-16  3.33066907e-16]\n",
      " [-1.94289029e-16  6.66133815e-16]\n",
      " [ 0.00000000e+00  3.33066907e-16]\n",
      " [ 0.00000000e+00 -4.44089210e-16]\n",
      " [-3.55271368e-15 -1.55431223e-15]\n",
      " [ 0.00000000e+00  2.22044605e-16]\n",
      " [ 8.88178420e-16 -3.05311332e-16]\n",
      " [-8.88178420e-16 -4.44089210e-16]\n",
      " [ 0.00000000e+00 -3.33066907e-16]\n",
      " [ 0.00000000e+00  2.22044605e-16]\n",
      " [ 8.88178420e-16 -4.44089210e-16]\n",
      " [ 0.00000000e+00  6.66133815e-16]\n",
      " [ 0.00000000e+00 -8.88178420e-16]\n",
      " [ 0.00000000e+00  1.66533454e-16]\n",
      " [ 0.00000000e+00  6.66133815e-16]\n",
      " [ 0.00000000e+00 -4.44089210e-16]\n",
      " [ 0.00000000e+00 -8.32667268e-17]\n",
      " [ 0.00000000e+00  6.66133815e-16]\n",
      " [ 0.00000000e+00  3.33066907e-16]\n",
      " [-4.44089210e-16 -1.11022302e-16]\n",
      " [ 0.00000000e+00 -4.44089210e-16]\n",
      " [ 1.77635684e-15 -5.41233725e-16]\n",
      " [-2.22044605e-16  1.11022302e-16]\n",
      " [ 0.00000000e+00 -5.55111512e-16]\n",
      " [ 0.00000000e+00 -1.11022302e-16]\n",
      " [-8.88178420e-16  3.05311332e-16]\n",
      " [-1.77635684e-15  2.22044605e-16]\n",
      " [ 0.00000000e+00  1.11022302e-16]\n",
      " [ 0.00000000e+00 -2.38697950e-15]\n",
      " [ 0.00000000e+00  7.63278329e-17]\n",
      " [-8.88178420e-16 -1.11022302e-15]\n",
      " [ 4.44089210e-16  4.44089210e-16]\n",
      " [ 0.00000000e+00  1.33226763e-15]\n",
      " [ 0.00000000e+00 -2.22044605e-16]\n",
      " [ 0.00000000e+00 -1.33226763e-15]\n",
      " [ 0.00000000e+00 -1.66533454e-16]\n",
      " [ 3.55271368e-15 -1.66533454e-16]\n",
      " [-3.55271368e-15  3.88578059e-16]\n",
      " [ 0.00000000e+00 -3.33066907e-16]\n",
      " [ 1.33226763e-15  4.44089210e-16]\n",
      " [ 0.00000000e+00  8.88178420e-16]\n",
      " [ 4.44089210e-16 -4.44089210e-16]\n",
      " [-4.44089210e-16  2.22044605e-16]\n",
      " [ 0.00000000e+00 -6.93889390e-17]\n",
      " [ 8.88178420e-16  3.33066907e-16]\n",
      " [ 0.00000000e+00 -3.33066907e-16]\n",
      " [ 0.00000000e+00 -9.99200722e-16]\n",
      " [ 6.10622664e-16  1.33226763e-15]\n",
      " [ 1.77635684e-15  8.88178420e-16]\n",
      " [-8.88178420e-16 -1.33226763e-15]\n",
      " [ 1.77635684e-15  3.33066907e-16]\n",
      " [ 0.00000000e+00 -6.66133815e-16]\n",
      " [ 1.77635684e-15  1.33226763e-15]\n",
      " [ 0.00000000e+00 -2.22044605e-16]\n",
      " [ 3.55271368e-15  2.22044605e-16]\n",
      " [ 0.00000000e+00 -5.55111512e-16]\n",
      " [ 0.00000000e+00 -4.44089210e-16]\n",
      " [-8.88178420e-16  1.66533454e-16]\n",
      " [ 8.88178420e-16 -4.44089210e-16]\n",
      " [ 0.00000000e+00  4.44089210e-16]\n",
      " [ 8.88178420e-16  0.00000000e+00]\n",
      " [-4.44089210e-16 -1.11022302e-16]\n",
      " [ 0.00000000e+00  1.11022302e-16]\n",
      " [ 0.00000000e+00  3.33066907e-16]\n",
      " [-1.77635684e-15  0.00000000e+00]\n",
      " [ 0.00000000e+00 -1.11022302e-16]\n",
      " [-8.88178420e-16 -1.11022302e-16]\n",
      " [-4.44089210e-16 -4.44089210e-16]\n",
      " [-8.88178420e-16 -8.88178420e-16]\n",
      " [ 0.00000000e+00 -3.60822483e-16]\n",
      " [ 1.77635684e-15  2.22044605e-16]]\n"
     ]
    }
   ],
   "source": [
    "print( u@np.diag(s)- X@vh.T)"
   ]
  },
  {
   "cell_type": "markdown",
   "id": "052746ae",
   "metadata": {},
   "source": [
    "The dilations we used above should relate to the singular values. "
   ]
  },
  {
   "cell_type": "code",
   "execution_count": 13,
   "id": "b6ebd47d",
   "metadata": {},
   "outputs": [
    {
     "name": "stdout",
     "output_type": "stream",
     "text": [
      "[95.2225178  12.85940552]\n",
      "[10, 1.2]\n"
     ]
    }
   ],
   "source": [
    "print(s)\n",
    "print(sig)"
   ]
  },
  {
   "cell_type": "markdown",
   "id": "36471105",
   "metadata": {},
   "source": [
    "The dilation factors and singular values are not equal. However, the singular values do not reflect the sample standard deviation exactly. In order to calculate the esimator of the standard devition precisely, we must divide by $\\sqrt{n-1}$. We ignore this usually because we are only interested in the fraction of teh variance we capture with the first $r$ principle components, for which the calculation doesn't depend on the $\\sqrt{n-1}$ factor."
   ]
  },
  {
   "cell_type": "code",
   "execution_count": 24,
   "id": "617e397d",
   "metadata": {},
   "outputs": [
    {
     "name": "stdout",
     "output_type": "stream",
     "text": [
      "[9.57022313 1.29241888]\n",
      "[10, 1.2]\n"
     ]
    }
   ],
   "source": [
    "print(s/np.sqrt(99))\n",
    "print(sig)"
   ]
  },
  {
   "cell_type": "markdown",
   "id": "f859375b",
   "metadata": {},
   "source": [
    "We see now that the values are approximately equal. As $n$ increases, so will the precision of the sample standard deviation. "
   ]
  },
  {
   "cell_type": "code",
   "execution_count": null,
   "id": "138522ed",
   "metadata": {},
   "outputs": [],
   "source": []
  }
 ],
 "metadata": {
  "kernelspec": {
   "display_name": "Python 3 (ipykernel)",
   "language": "python",
   "name": "python3"
  },
  "language_info": {
   "codemirror_mode": {
    "name": "ipython",
    "version": 3
   },
   "file_extension": ".py",
   "mimetype": "text/x-python",
   "name": "python",
   "nbconvert_exporter": "python",
   "pygments_lexer": "ipython3",
   "version": "3.7.11"
  }
 },
 "nbformat": 4,
 "nbformat_minor": 5
}
